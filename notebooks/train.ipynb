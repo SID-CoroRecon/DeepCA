{
 "cells": [
  {
   "cell_type": "code",
   "execution_count": null,
   "metadata": {},
   "outputs": [],
   "source": [
    "! git clone https://github.com/SID-CoroRecon/DeepCA.git"
   ]
  },
  {
   "cell_type": "code",
   "execution_count": null,
   "metadata": {},
   "outputs": [],
   "source": [
    "! pip install -r /kaggle/working/DeepCA/requirements.txt"
   ]
  },
  {
   "cell_type": "code",
   "execution_count": null,
   "metadata": {},
   "outputs": [],
   "source": [
    "%%writefile /kaggle/working/DeepCA/config/config.yaml\n",
    "path:\n",
    "  BP_dir: /kaggle/input/deepca-one-view-data/CCTA_BP\n",
    "  label_dir: /kaggle/input/deepca-one-view-data/split_two\n",
    "  output_dir: /kaggle/working\n",
    "  checkpoint_path: /kaggle/input/deepca-training-18/outputs_results/checkpoints/Epoch_198.tar\n",
    "  model_dir: /kaggle/working/DeepCA\n",
    "\n",
    "hyperparameters:\n",
    "  learning_rate: 0.0001\n",
    "  extra_epochs: 10\n",
    "  lambda_term: 10\n",
    "  batch_size: 1\n",
    "  betas:\n",
    "    - 0.5\n",
    "    - 0.9"
   ]
  },
  {
   "cell_type": "code",
   "execution_count": null,
   "metadata": {},
   "outputs": [],
   "source": [
    "! python /kaggle/working/DeepCA/train_model.py"
   ]
  }
 ],
 "metadata": {
  "kernelspec": {
   "display_name": "Python 3",
   "language": "python",
   "name": "python3"
  },
  "language_info": {
   "name": "python",
   "version": "3.10.1"
  }
 },
 "nbformat": 4,
 "nbformat_minor": 2
}
